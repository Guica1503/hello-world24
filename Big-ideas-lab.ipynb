{
 "cells": [
  {
   "cell_type": "code",
   "execution_count": 7,
   "id": "3a721838-f86d-41c7-b8c8-0bca1d887638",
   "metadata": {},
   "outputs": [
    {
     "name": "stdin",
     "output_type": "stream",
     "text": [
      "What is your name? Guilherme \n",
      "what is your age 40\n"
     ]
    },
    {
     "name": "stdout",
     "output_type": "stream",
     "text": [
      "Guilherme  is a senior citizen with an age of 40\n"
     ]
    }
   ],
   "source": [
    "name = input(\"What is your name?\")\n",
    "age = int(input(\"what is your age\"))\n",
    "if age > 30:\n",
    "    print(f\"{name} is a senior citizen with an age of {age}\")\n",
    "else:\n",
    "    print(f\"{name} is a young person with an age of {age}\")"
   ]
  },
  {
   "cell_type": "code",
   "execution_count": null,
   "id": "52285ead-9628-4127-b2ed-eece5da18904",
   "metadata": {},
   "outputs": [],
   "source": []
  }
 ],
 "metadata": {
  "kernelspec": {
   "display_name": "Python 3 (ipykernel)",
   "language": "python",
   "name": "python3"
  },
  "language_info": {
   "codemirror_mode": {
    "name": "ipython",
    "version": 3
   },
   "file_extension": ".py",
   "mimetype": "text/x-python",
   "name": "python",
   "nbconvert_exporter": "python",
   "pygments_lexer": "ipython3",
   "version": "3.12.4"
  }
 },
 "nbformat": 4,
 "nbformat_minor": 5
}
